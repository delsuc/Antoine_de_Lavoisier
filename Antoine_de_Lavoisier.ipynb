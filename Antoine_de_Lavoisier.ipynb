{
 "cells": [
  {
   "cell_type": "markdown",
   "metadata": {},
   "source": [
    "*This jupyter notebook present the processing performed in the manuscript:*\n",
    "\n",
    "## Storing the portrait of *Antoine de Lavoisier* in a Single Macromolecule\n",
    "\n",
    "Authors: *Eline Laurent,\n",
    "    Jean-Arthur Amalian,\n",
    "    Kevin Launay,\n",
    "    Jean-Louis Clément,\n",
    "    Didier Gigmes,\n",
    "    Alexandre Burel,\n",
    "    Christine Carapito,\n",
    "    Laurence Charles,\n",
    "    Marc-André Delsuc,\n",
    "    and Jean-François Lutz*\n",
    "\n",
    "*submitted for publication*\n",
    "\n",
    "The purpose is to code a picture in a single macromolecule.\n",
    "The picture consists of 20x22 black or white pixels, coded as 1 or 0.\n",
    "The  use Arithmetic Coding to compress the signal.\n",
    "Then the bits are concatenated into a single bit-stream, and this signal is coded in a polymer using 8 different monomers, coding for 3 bits each.\n",
    "\n",
    "The details on the synthesis steps and signal recovery by MS/MS can be found in the full publication.\n",
    "\n",
    "The code for an arithmetic compressor is based on the code from [\"Project Nayuki\"](https://www.nayuki.io/page/reference-arithmetic-coding)\n",
    "\n",
    "downloaded from https://github.com/nayuki/Reference-arithmetic-coding\n",
    "\n",
    "<p xmlns:dct=\"http://purl.org/dc/terms/\" xmlns:cc=\"http://creativecommons.org/ns#\" class=\"license-text\">This work   is licensed under <a rel=\"license\" href=\"https://creativecommons.org/licenses/by/4.0\">CC BY 4.0<img style=\"height:22px!important;margin-left:3px;vertical-align:text-bottom;\" src=\"https://mirrors.creativecommons.org/presskit/icons/cc.svg?ref=chooser-v1\" /><img style=\"height:22px!important;margin-left:3px;vertical-align:text-bottom;\" src=\"https://mirrors.creativecommons.org/presskit/icons/by.svg?ref=chooser-v1\" /></a></p>"
   ]
  },
  {
   "cell_type": "markdown",
   "metadata": {},
   "source": [
    "## first implement the code used for display and compression\n",
    "coded in Python"
   ]
  },
  {
   "cell_type": "code",
   "execution_count": 1,
   "metadata": {
    "ExecuteTime": {
     "end_time": "2020-10-28T10:33:16.620515Z",
     "start_time": "2020-10-28T10:33:16.393070Z"
    }
   },
   "outputs": [],
   "source": [
    "import numpy as np\n",
    "import matplotlib.pyplot as plt"
   ]
  },
  {
   "cell_type": "code",
   "execution_count": 2,
   "metadata": {
    "ExecuteTime": {
     "end_time": "2020-10-28T10:33:16.647504Z",
     "start_time": "2020-10-28T10:33:16.622051Z"
    }
   },
   "outputs": [],
   "source": [
    "# Some basic tools\n",
    "# we use the following conventions:\n",
    "#    Signal is the binary signal to code/decode           - coded into a np.array\n",
    "#    Message is the molecular organisation of the signal  - coded into a list\n",
    "\n",
    "# converters\n",
    "Codon = 3  # number of bits carried by the monomers    3 ⇒ 8 monomers M1...M8\n",
    " \n",
    "def decodon(lett, code=Codon):\n",
    "    \"\"\"\n",
    "    given a letter returns bit pattern in given code\n",
    "    decodon(\"M1\", 3) == [0 0 0]\n",
    "    decodon(\"M3\", 2) == [1 0]\n",
    "    \"\"\"\n",
    "    n = int(lett[1:])-1\n",
    "    form = \"{:0>%db}\"%(code)\n",
    "    s = form.format(n)\n",
    "    return [int(l) for l in s]  # make it list\n",
    "def codon(pat):\n",
    "    \"\"\"\n",
    "    given a bit pattern, returns its name in letter\n",
    "    [0 0 0] = \"M1\"\n",
    "    [1 0] = \"M3\"   etc...\n",
    "    \"\"\"\n",
    "    s = sum([(2**i) * pat[-1-i] for i in range(len(pat))] ) \n",
    "    return 'M%d'%(s+1)\n",
    "\n",
    "def sig2msg(signal, code=Codon):\n",
    "    \"code a signal into a message\"\n",
    "    return [codon(signal[i:i+code]) for i in range(0,len(signal),code)]\n",
    "def msg2sig(msg, code=Codon):\n",
    "    \"decode a message into a signal\"\n",
    "    return np.array(sum(map(decodon,msg),[]))\n",
    "\n",
    "# checksun handling\n",
    "def addcs(argsignal):\n",
    "    \"\"\"this function takes a signal, as a list of bits and add on cs at the end\n",
    "    \"\"\"\n",
    "    signal = list(argsignal)\n",
    "    cs = sum(signal)%2\n",
    "    signal.append(cs)\n",
    "    return signal\n",
    "def checkcs(argsignal):\n",
    "    signal = list(argsignal)\n",
    "    cs = signal.pop()\n",
    "    if cs != sum(signal)%2:\n",
    "        print('**WARNING** the checsum is not valid')\n",
    "    else:\n",
    "        print('valid checksum')\n",
    "    return np.array(signal)\n",
    "\n",
    "# tools on pictures\n",
    "def pcheck(pict):\n",
    "    \"verifies that pict (whatever format) is correct, and return a formated pict array\"\n",
    "    p = np.array(pict)\n",
    "    if len(p.shape) == 1:\n",
    "        p = p.reshape(SizeH,SizeW)\n",
    "    else:\n",
    "        p.shape != (SizeW, SizeH)\n",
    "#        print(p.shape)\n",
    "    return p\n",
    "def draw( pict ):\n",
    "    \"draws a pixelated picture\"\n",
    "    plt.figure()\n",
    "    plt.imshow(pcheck(pict), cmap=\"Greys\")\n",
    "    "
   ]
  },
  {
   "cell_type": "code",
   "execution_count": 3,
   "metadata": {
    "ExecuteTime": {
     "end_time": "2020-10-28T10:33:16.659228Z",
     "start_time": "2020-10-28T10:33:16.649028Z"
    }
   },
   "outputs": [
    {
     "name": "stdout",
     "output_type": "stream",
     "text": [
      "signal:\t\t [1, 1, 1, 0, 1, 1, 1, 1, 0, 0, 0, 1, 0, 0, 0]\n",
      "signal + cs :\t [1, 1, 1, 0, 1, 1, 1, 1, 0, 0, 0, 1, 0, 0, 0, 0]\n",
      "coded message:\t ['M8', 'M4', 'M7', 'M2', 'M1', 'M1']\n"
     ]
    }
   ],
   "source": [
    "# exemple given\n",
    "sig = [1,1,1,0,1,1,1,1,0,0,0,1,0,0,0]\n",
    "print('signal:\\t\\t',sig)\n",
    "sigcs = addcs(sig)\n",
    "print('signal + cs :\\t',sigcs)\n",
    "msg = sig2msg(sigcs)\n",
    "print('coded message:\\t',msg)"
   ]
  },
  {
   "cell_type": "code",
   "execution_count": 4,
   "metadata": {
    "ExecuteTime": {
     "end_time": "2020-10-28T10:33:16.704332Z",
     "start_time": "2020-10-28T10:33:16.662626Z"
    }
   },
   "outputs": [],
   "source": [
    "# the following code implements an arithmetic compresser\n",
    "# based on the code from \"Project Nayuki\", https://www.nayuki.io/page/reference-arithmetic-coding\n",
    "# dowloaded 2020-03-10\n",
    "import io\n",
    "import arithm_coding.arithmeticcoding  as ar     # as found in Project Nayuki\n",
    "# implement an in-memory input/ouput stream\n",
    "class BitInputStream(object):\n",
    "    \"Constructs a fake bit input stream\"\n",
    "    def __init__(self, inp,nbits):\n",
    "        \"inp is a list of 1 and 0\"\n",
    "        self.inp = inp\n",
    "        self.nbits = nbits\n",
    "    def read(self):\n",
    "        try:\n",
    "            return self.inp.pop(0)\n",
    "        except:\n",
    "            return -1\n",
    "    def _repr_(self):\n",
    "        self.inp._repr_()\n",
    "class BitOutputStream(object):\n",
    "    \"Constructs a fake bit output stream\"\n",
    "    def __init__(self,nbits):\n",
    "        self.out = []\n",
    "        self.nbits = nbits\n",
    "    def write(self, b):\n",
    "        \"Writes a bit to the stream. The given bit must be 0 or 1.\"\n",
    "        if b not in (0, 1):\n",
    "            raise ValueError(\"Argument must be 0 or 1\")\n",
    "        self.out.append(b)\n",
    "    def close(self):\n",
    "        pass\n",
    "#        print(self.out)\n",
    "    def _repr_(self):\n",
    "        self.out._repr_()\n",
    "# Code using ARCoder\n",
    "class ARCoder():\n",
    "    def __init__(self,nbits, verbose=True):\n",
    "        if nbits <2 or nbits>8 :\n",
    "            raise ValueError('N should be a value between 2 and 8')\n",
    "        self.nbits = nbits\n",
    "        self.sz = 2**nbits\n",
    "        self.sig = None\n",
    "        self.verbose = verbose\n",
    "    def set_signal(self, signal):\n",
    "        \"to be called after initialization for coding\"\n",
    "        self.sig = self.align(signal)\n",
    "        self.comp_frequencies()\n",
    "    # compute frequencies\n",
    "    def set_freq(self, freqs):\n",
    "        \"to be called after initialization for decoding - freqs is the frequency table computed by the coder\"\n",
    "        self.freqs = freqs\n",
    "    def align(self, sig):\n",
    "        \"complete signal with trailing 0 so length is a multiple of 2^nbits\"\n",
    "        asig = [s for s in sig]\n",
    "        while len(asig) % self.sz != 0:\n",
    "            asig.append(0)\n",
    "        return asig\n",
    "    def comp_frequencies(self):\n",
    "        \"compute the frequency table from the signal\"\n",
    "        freqs = ar.SimpleFrequencyTable([0] * (self.sz+1))\n",
    "        for i in range(0,len(self.sig), self.nbits):\n",
    "            symb = 0\n",
    "            for j in range(self.nbits):\n",
    "                if i+j < len(self.sig):\n",
    "                    v = self.sig[i+j]\n",
    "                    symb = 2*symb + v\n",
    "                else:\n",
    "                    break\n",
    "            freqs.increment(symb)\n",
    "        freqs.increment(self.sz)  # marks end of stream\n",
    "        self.freqs = freqs\n",
    "    def compress(self):\n",
    "        \"return the compressed signal from the signal\"\n",
    "        out = open('toto','wb')\n",
    "        bits = ar.BitOutputStream(out)\n",
    "        coder = ar.ArithmeticEncoder(32,bits)\n",
    "        for i in range(0,len(self.sig), self.nbits):\n",
    "            symb = 0\n",
    "            for j in range(self.nbits):\n",
    "                if i+j < len(self.sig):\n",
    "                    v = self.sig[i+j]\n",
    "                    symb = 2*symb + v\n",
    "                else:\n",
    "                    break\n",
    "            if self.verbose: print(symb,end=' ')\n",
    "            coder.write(self.freqs, symb)\n",
    "        coder.write(self.freqs, self.sz)     # marks end of stream\n",
    "        coder.finish()\n",
    "        bits.close()\n",
    "        res = []\n",
    "        bylst = open('toto','rb').read()\n",
    "        for by in bylst:\n",
    "            for _ in range(8):\n",
    "                res.append(by%2)\n",
    "                by = by//2\n",
    "        return res\n",
    "    def decomp(self, inp):\n",
    "        inp = ar.BitInputStream(open('toto','rb'))\n",
    "        dec = ar.ArithmeticDecoder(32,inp)\n",
    "        res = []\n",
    "        while True:\n",
    "            symb = dec.read(self.freqs)\n",
    "            if symb == self.sz:           # EOF symbol\n",
    "                break\n",
    "            if self.verbose: print(symb, end=' ')\n",
    "            # decode symb\n",
    "            bb = [0]*self.nbits\n",
    "            for j in range(self.nbits):\n",
    "                if symb%2 == 1:\n",
    "                    bb[self.nbits-j-1] = 1\n",
    "                symb = symb//2\n",
    "            for b in bb:\n",
    "                res.append(b)\n",
    "#            res.append(symb)\n",
    "        return res\n",
    "def ARcode(image, N):\n",
    "    \"a minimum coder\"\n",
    "    C = ARCoder(N, verbose=False)\n",
    "    C.set_signal(image)\n",
    "    #print(C.freqs.frequencies)\n",
    "    s = C.compress()\n",
    "    return s"
   ]
  },
  {
   "cell_type": "markdown",
   "metadata": {},
   "source": [
    "# the Lavoisier picture"
   ]
  },
  {
   "cell_type": "code",
   "execution_count": 5,
   "metadata": {
    "ExecuteTime": {
     "end_time": "2020-10-28T10:33:16.897710Z",
     "start_time": "2020-10-28T10:33:16.706681Z"
    }
   },
   "outputs": [
    {
     "data": {
      "image/png": "[encoded data removed]",
      "text/plain": [
       "<Figure size 432x288 with 1 Axes>"
      ]
     },
     "metadata": {
      "needs_background": "light"
     },
     "output_type": "display_data"
    }
   ],
   "source": [
    "Lavoisier = np.array([[0, 0, 0, 0, 0, 0, 0, 0, 0, 0, 0, 0, 0, 0, 0, 0, 0, 0, 0, 0],\n",
    "       [0, 0, 0, 0, 0, 0, 0, 0, 0, 0, 0, 0, 0, 0, 0, 0, 0, 0, 0, 0],\n",
    "       [0, 0, 0, 0, 0, 0, 1, 1, 0, 0, 0, 0, 0, 0, 0, 0, 0, 0, 0, 0],\n",
    "       [0, 0, 0, 0, 0, 1, 1, 0, 0, 0, 0, 0, 1, 1, 0, 0, 0, 0, 0, 0],\n",
    "       [0, 0, 0, 0, 0, 1, 0, 0, 0, 0, 0, 0, 1, 1, 1, 0, 0, 0, 0, 0],\n",
    "       [0, 0, 0, 0, 0, 1, 0, 0, 0, 0, 0, 0, 1, 1, 1, 0, 0, 1, 0, 0],\n",
    "       [0, 0, 0, 0, 1, 1, 1, 0, 0, 0, 0, 1, 1, 1, 0, 0, 0, 1, 0, 0],\n",
    "       [0, 0, 0, 0, 1, 0, 0, 0, 1, 1, 1, 1, 1, 1, 0, 0, 0, 1, 0, 0],\n",
    "       [0, 0, 0, 1, 0, 0, 0, 1, 1, 1, 1, 1, 1, 1, 0, 0, 1, 1, 0, 0],\n",
    "       [0, 0, 0, 1, 0, 0, 0, 1, 0, 0, 0, 1, 1, 1, 1, 1, 1, 1, 0, 0],\n",
    "       [0, 0, 0, 0, 0, 0, 1, 1, 0, 0, 0, 0, 1, 1, 1, 0, 1, 1, 0, 0],\n",
    "       [0, 0, 0, 0, 0, 0, 1, 1, 0, 0, 1, 1, 1, 1, 1, 1, 1, 1, 0, 0],\n",
    "       [0, 0, 0, 0, 0, 1, 1, 1, 0, 0, 1, 1, 1, 1, 0, 0, 0, 0, 0, 0],\n",
    "       [0, 0, 0, 0, 0, 0, 0, 0, 0, 1, 1, 1, 1, 1, 0, 0, 0, 0, 0, 0],\n",
    "       [0, 0, 0, 1, 0, 0, 0, 1, 1, 1, 1, 1, 1, 1, 0, 0, 0, 0, 0, 0],\n",
    "       [0, 1, 1, 1, 1, 1, 1, 1, 1, 1, 1, 1, 1, 1, 1, 0, 0, 0, 0, 0],\n",
    "       [0, 1, 1, 1, 1, 0, 0, 1, 1, 1, 1, 1, 1, 1, 1, 0, 0, 0, 0, 0],\n",
    "       [0, 1, 1, 1, 1, 1, 0, 0, 0, 0, 1, 1, 1, 1, 1, 0, 0, 0, 0, 0],\n",
    "       [0, 1, 1, 1, 1, 1, 0, 0, 0, 0, 1, 1, 1, 1, 0, 0, 0, 0, 0, 0],\n",
    "       [0, 1, 1, 1, 1, 1, 1, 0, 0, 1, 1, 1, 1, 1, 1, 1, 0, 0, 0, 0],\n",
    "       [0, 1, 1, 1, 1, 1, 1, 0, 0, 0, 0, 1, 1, 1, 1, 1, 0, 0, 0, 0],\n",
    "[0, 0, 0, 0, 0, 0, 0, 0, 0, 0, 0, 0, 0, 0, 0, 0, 0, 0, 0, 0]])\n",
    "SizeW, SizeH = (20, 22)  # size of the picture\n",
    "draw(Lavoisier)"
   ]
  },
  {
   "cell_type": "markdown",
   "metadata": {},
   "source": [
    "# Compression and coding"
   ]
  },
  {
   "cell_type": "code",
   "execution_count": 6,
   "metadata": {
    "ExecuteTime": {
     "end_time": "2020-10-28T10:33:16.903998Z",
     "start_time": "2020-10-28T10:33:16.899190Z"
    }
   },
   "outputs": [
    {
     "name": "stdout",
     "output_type": "stream",
     "text": [
      "raw bit stream:\n",
      " [0 0 0 0 0 0 0 0 0 0 0 0 0 0 0 0 0 0 0 0 0 0 0 0 0 0 0 0 0 0 0 0 0 0 0 0 0\n",
      " 0 0 0 0 0 0 0 0 0 1 1 0 0 0 0 0 0 0 0 0 0 0 0 0 0 0 0 0 1 1 0 0 0 0 0 1 1\n",
      " 0 0 0 0 0 0 0 0 0 0 0 1 0 0 0 0 0 0 1 1 1 0 0 0 0 0 0 0 0 0 0 1 0 0 0 0 0\n",
      " 0 1 1 1 0 0 1 0 0 0 0 0 0 1 1 1 0 0 0 0 1 1 1 0 0 0 1 0 0 0 0 0 0 1 0 0 0\n",
      " 1 1 1 1 1 1 0 0 0 1 0 0 0 0 0 1 0 0 0 1 1 1 1 1 1 1 0 0 1 1 0 0 0 0 0 1 0\n",
      " 0 0 1 0 0 0 1 1 1 1 1 1 1 0 0 0 0 0 0 0 0 1 1 0 0 0 0 1 1 1 0 1 1 0 0 0 0\n",
      " 0 0 0 0 1 1 0 0 1 1 1 1 1 1 1 1 0 0 0 0 0 0 0 1 1 1 0 0 1 1 1 1 0 0 0 0 0\n",
      " 0 0 0 0 0 0 0 0 0 0 1 1 1 1 1 0 0 0 0 0 0 0 0 0 1 0 0 0 1 1 1 1 1 1 1 0 0\n",
      " 0 0 0 0 0 1 1 1 1 1 1 1 1 1 1 1 1 1 1 0 0 0 0 0 0 1 1 1 1 0 0 1 1 1 1 1 1\n",
      " 1 1 0 0 0 0 0 0 1 1 1 1 1 0 0 0 0 1 1 1 1 1 0 0 0 0 0 0 1 1 1 1 1 0 0 0 0\n",
      " 1 1 1 1 0 0 0 0 0 0 0 1 1 1 1 1 1 0 0 1 1 1 1 1 1 1 0 0 0 0 0 1 1 1 1 1 1\n",
      " 0 0 0 0 1 1 1 1 1 0 0 0 0 0 0 0 0 0 0 0 0 0 0 0 0 0 0 0 0 0 0 0 0] \n",
      "length: 440\n"
     ]
    }
   ],
   "source": [
    "stream = Lavoisier.ravel()\n",
    "lenstream = len(stream)\n",
    "print('raw bit stream:\\n', stream, '\\nlength:',lenstream)"
   ]
  },
  {
   "cell_type": "code",
   "execution_count": 7,
   "metadata": {
    "ExecuteTime": {
     "end_time": "2020-10-28T10:33:16.912328Z",
     "start_time": "2020-10-28T10:33:16.905517Z"
    }
   },
   "outputs": [
    {
     "name": "stdout",
     "output_type": "stream",
     "text": [
      "stream with added checksum:\n",
      " [0 0 0 0 0 0 0 0 0 0 0 0 0 0 0 0 0 0 0 0 0 0 0 0 0 0 0 0 0 0 0 0 0 0 0 0 0\n",
      " 0 0 0 0 0 0 0 0 0 1 1 0 0 0 0 0 0 0 0 0 0 0 0 0 0 0 0 0 1 1 0 0 0 0 0 1 1\n",
      " 0 0 0 0 0 0 0 0 0 0 0 1 0 0 0 0 0 0 1 1 1 0 0 0 0 0 0 0 0 0 0 1 0 0 0 0 0\n",
      " 0 1 1 1 0 0 1 0 0 0 0 0 0 1 1 1 0 0 0 0 1 1 1 0 0 0 1 0 0 0 0 0 0 1 0 0 0\n",
      " 1 1 1 1 1 1 0 0 0 1 0 0 0 0 0 1 0 0 0 1 1 1 1 1 1 1 0 0 1 1 0 0 0 0 0 1 0\n",
      " 0 0 1 0 0 0 1 1 1 1 1 1 1 0 0 0 0 0 0 0 0 1 1 0 0 0 0 1 1 1 0 1 1 0 0 0 0\n",
      " 0 0 0 0 1 1 0 0 1 1 1 1 1 1 1 1 0 0 0 0 0 0 0 1 1 1 0 0 1 1 1 1 0 0 0 0 0\n",
      " 0 0 0 0 0 0 0 0 0 0 1 1 1 1 1 0 0 0 0 0 0 0 0 0 1 0 0 0 1 1 1 1 1 1 1 0 0\n",
      " 0 0 0 0 0 1 1 1 1 1 1 1 1 1 1 1 1 1 1 0 0 0 0 0 0 1 1 1 1 0 0 1 1 1 1 1 1\n",
      " 1 1 0 0 0 0 0 0 1 1 1 1 1 0 0 0 0 1 1 1 1 1 0 0 0 0 0 0 1 1 1 1 1 0 0 0 0\n",
      " 1 1 1 1 0 0 0 0 0 0 0 1 1 1 1 1 1 0 0 1 1 1 1 1 1 1 0 0 0 0 0 1 1 1 1 1 1\n",
      " 0 0 0 0 1 1 1 1 1 0 0 0 0 0 0 0 0 0 0 0 0 0 0 0 0 0 0 0 0 0 0 0 0 1] \n",
      "length: 441\n"
     ]
    }
   ],
   "source": [
    "streamcs = np.array(addcs(stream))                # add the checksum\n",
    "lenstreamcs = len(streamcs)\n",
    "print('stream with added checksum:\\n', streamcs, '\\nlength:',lenstreamcs)"
   ]
  },
  {
   "cell_type": "code",
   "execution_count": 8,
   "metadata": {
    "ExecuteTime": {
     "end_time": "2020-10-28T10:33:16.924317Z",
     "start_time": "2020-10-28T10:33:16.915837Z"
    }
   },
   "outputs": [],
   "source": [
    "# set-up the coder\n",
    "N = 8                               # we'll code on 8bits\n",
    "C = ARCoder(N, verbose=False)       # create the code\n",
    "C.set_signal(streamcs)              # set the signal - computes the frequency table\n",
    "freq_table = C.freqs                # and store it\n",
    "# print(\"frequency table:\\n\",freq_table.frequencies)     # uncomment to print the frequency table   "
   ]
  },
  {
   "cell_type": "code",
   "execution_count": 9,
   "metadata": {
    "ExecuteTime": {
     "end_time": "2020-10-28T10:33:16.941044Z",
     "start_time": "2020-10-28T10:33:16.926685Z"
    }
   },
   "outputs": [
    {
     "name": "stdout",
     "output_type": "stream",
     "text": [
      "compressed stream:\n",
      " [0 0 0 0 0 0 0 0 1 1 1 0 1 1 0 0 1 1 0 0 1 1 1 1 1 1 1 0 1 0 0 1 1 0 1 1 1\n",
      " 1 1 1 1 0 0 1 1 0 0 0 1 1 0 0 1 1 0 0 1 1 1 0 1 1 0 1 0 0 1 0 1 1 0 0 1 1\n",
      " 1 1 0 1 0 0 0 1 0 0 1 0 1 1 1 1 1 0 1 1 0 0 1 1 1 1 0 1 1 0 1 0 0 1 0 0 1\n",
      " 0 1 0 1 1 0 1 0 0 0 0 0 1 0 1 1 0 0 0 1 1 0 0 1 1 1 0 1 0 0 0 0 1 0 1 1 1\n",
      " 1 1 1 0 1 0 0 0 1 1 1 0 1 0 0 0 0 1 1 1 1 1 1 1 0 0 1 0 0 1 0 1 1 1 1 0 0\n",
      " 0 0 0 1 1 1 1 0 0 0 1 1 1 1 1 0 0 0 1 1 1 1 0 1 0 0 0 1 0 1 1 1 0 1 0 0 0\n",
      " 1 1 1 1 1 1 1 0 0 1 1 1 1 1 1 0 1 1 0 0 0 1 1 1 0 1 1 0 1 1 0 1 1 0 0 1 1\n",
      " 0 1 1 1 1] \n",
      "length: 264 bits\n",
      "that's a 40% reduction compared to non compressed\n"
     ]
    }
   ],
   "source": [
    "# do the compression\n",
    "compstream = np.array(C.compress())\n",
    "complength = len(compstream)\n",
    "print('compressed stream:\\n', compstream, '\\nlength:', complength, 'bits' )\n",
    "print (\"that's a %.0f%% reduction compared to non compressed\"%(100*(1-complength/len(streamcs))))"
   ]
  },
  {
   "cell_type": "markdown",
   "metadata": {},
   "source": [
    "# chemical message to synthetize:"
   ]
  },
  {
   "cell_type": "code",
   "execution_count": 10,
   "metadata": {
    "ExecuteTime": {
     "end_time": "2020-10-28T10:33:16.962123Z",
     "start_time": "2020-10-28T10:33:16.942378Z"
    }
   },
   "outputs": [
    {
     "name": "stdout",
     "output_type": "stream",
     "text": [
      "message:\n",
      "M1-M1-M2-M7-M7-M4-M2-M8-M8-M3-M4-M4-M8-M7-M4-M1-M7-M4-M2-M7-M7-M5-M6-M5-M8-M6-M1-M5-M6-M8-M6-M5-M8-M6-M6-M2-M2-M3-M7-M5-M1-M6-M5-M4-M2-M7-M5-M2-M4-M8-M6-M1-M8-M3-M1-M8-M8-M5-M5-M6-M8-M1-M2-M8-M1-M8-M7-M2-M8-M3-M2-M4-M6-M1-M8-M8-M5-M8-M8-M4-M1-M8-M4-M4-M4-M2-M6-M8\n",
      "length: 88 monomers\n"
     ]
    }
   ],
   "source": [
    "msgLavoisier = sig2msg(compstream)\n",
    "print('message:')\n",
    "print(*msgLavoisier, sep='-')\n",
    "print('length:', len(msgLavoisier), 'monomers')"
   ]
  },
  {
   "cell_type": "markdown",
   "metadata": {},
   "source": [
    "# decoding the message"
   ]
  },
  {
   "cell_type": "code",
   "execution_count": 11,
   "metadata": {
    "ExecuteTime": {
     "end_time": "2020-10-28T10:33:16.971207Z",
     "start_time": "2020-10-28T10:33:16.965389Z"
    }
   },
   "outputs": [
    {
     "name": "stdout",
     "output_type": "stream",
     "text": [
      "decoded signal:\n",
      " [0 0 0 0 0 0 0 0 1 1 1 0 1 1 0 0 1 1 0 0 1 1 1 1 1 1 1 0 1 0 0 1 1 0 1 1 1\n",
      " 1 1 1 1 0 0 1 1 0 0 0 1 1 0 0 1 1 0 0 1 1 1 0 1 1 0 1 0 0 1 0 1 1 0 0 1 1\n",
      " 1 1 0 1 0 0 0 1 0 0 1 0 1 1 1 1 1 0 1 1 0 0 1 1 1 1 0 1 1 0 1 0 0 1 0 0 1\n",
      " 0 1 0 1 1 0 1 0 0 0 0 0 1 0 1 1 0 0 0 1 1 0 0 1 1 1 0 1 0 0 0 0 1 0 1 1 1\n",
      " 1 1 1 0 1 0 0 0 1 1 1 0 1 0 0 0 0 1 1 1 1 1 1 1 0 0 1 0 0 1 0 1 1 1 1 0 0\n",
      " 0 0 0 1 1 1 1 0 0 0 1 1 1 1 1 0 0 0 1 1 1 1 0 1 0 0 0 1 0 1 1 1 0 1 0 0 0\n",
      " 1 1 1 1 1 1 1 0 0 1 1 1 1 1 1 0 1 1 0 0 0 1 1 1 0 1 1 0 1 1 0 1 1 0 0 1 1\n",
      " 0 1 1 1 1]\n"
     ]
    }
   ],
   "source": [
    "# first decode the message into a compressed signal\n",
    "decstream = msg2sig(msgLavoisier)\n",
    "print('decoded signal:\\n',decstream)"
   ]
  },
  {
   "cell_type": "code",
   "execution_count": 12,
   "metadata": {
    "ExecuteTime": {
     "end_time": "2020-10-28T10:33:16.985230Z",
     "start_time": "2020-10-28T10:33:16.974319Z"
    }
   },
   "outputs": [
    {
     "name": "stdout",
     "output_type": "stream",
     "text": [
      "valid checksum\n",
      "decoded signal\n",
      " [0 0 0 0 0 0 0 0 0 0 0 0 0 0 0 0 0 0 0 0 0 0 0 0 0 0 0 0 0 0 0 0 0 0 0 0 0\n",
      " 0 0 0 0 0 0 0 0 0 1 1 0 0 0 0 0 0 0 0 0 0 0 0 0 0 0 0 0 1 1 0 0 0 0 0 1 1\n",
      " 0 0 0 0 0 0 0 0 0 0 0 1 0 0 0 0 0 0 1 1 1 0 0 0 0 0 0 0 0 0 0 1 0 0 0 0 0\n",
      " 0 1 1 1 0 0 1 0 0 0 0 0 0 1 1 1 0 0 0 0 1 1 1 0 0 0 1 0 0 0 0 0 0 1 0 0 0\n",
      " 1 1 1 1 1 1 0 0 0 1 0 0 0 0 0 1 0 0 0 1 1 1 1 1 1 1 0 0 1 1 0 0 0 0 0 1 0\n",
      " 0 0 1 0 0 0 1 1 1 1 1 1 1 0 0 0 0 0 0 0 0 1 1 0 0 0 0 1 1 1 0 1 1 0 0 0 0\n",
      " 0 0 0 0 1 1 0 0 1 1 1 1 1 1 1 1 0 0 0 0 0 0 0 1 1 1 0 0 1 1 1 1 0 0 0 0 0\n",
      " 0 0 0 0 0 0 0 0 0 0 1 1 1 1 1 0 0 0 0 0 0 0 0 0 1 0 0 0 1 1 1 1 1 1 1 0 0\n",
      " 0 0 0 0 0 1 1 1 1 1 1 1 1 1 1 1 1 1 1 0 0 0 0 0 0 1 1 1 1 0 0 1 1 1 1 1 1\n",
      " 1 1 0 0 0 0 0 0 1 1 1 1 1 0 0 0 0 1 1 1 1 1 0 0 0 0 0 0 1 1 1 1 1 0 0 0 0\n",
      " 1 1 1 1 0 0 0 0 0 0 0 1 1 1 1 1 1 0 0 1 1 1 1 1 1 1 0 0 0 0 0 1 1 1 1 1 1\n",
      " 0 0 0 0 1 1 1 1 1 0 0 0 0 0 0 0 0 0 0 0 0 0 0 0 0 0 0 0 0 0 0 0 0]\n"
     ]
    }
   ],
   "source": [
    "# decode the signal\n",
    "D = ARCoder(N, verbose=False)          # create the decoder\n",
    "D.set_freq(freq_table)                 # load the frequency table\n",
    "decoded = D.decomp(decstream) \n",
    "decoded = np.array(decoded[:lenstreamcs])\n",
    "decoded = checkcs(decoded)\n",
    "print('decoded signal\\n',decoded)"
   ]
  },
  {
   "cell_type": "markdown",
   "metadata": {},
   "source": [
    "# and finally, the decoded picture"
   ]
  },
  {
   "cell_type": "code",
   "execution_count": 13,
   "metadata": {
    "ExecuteTime": {
     "end_time": "2020-10-28T10:33:17.175361Z",
     "start_time": "2020-10-28T10:33:16.987803Z"
    }
   },
   "outputs": [
    {
     "data": {
      "image/png": "[encoded data removed]",
      "text/plain": [
       "<Figure size 432x288 with 1 Axes>"
      ]
     },
     "metadata": {
      "needs_background": "light"
     },
     "output_type": "display_data"
    }
   ],
   "source": [
    "draw(decoded)"
   ]
  }
 ],
 "metadata": {
  "jupytext": {
   "cell_metadata_filter": "-all",
   "notebook_metadata_filter": "-all"
  },
  "kernelspec": {
   "display_name": "Python 3",
   "language": "python",
   "name": "python3"
  },
  "language_info": {
   "codemirror_mode": {
    "name": "ipython",
    "version": 3
   },
   "file_extension": ".py",
   "mimetype": "text/x-python",
   "name": "python",
   "nbconvert_exporter": "python",
   "pygments_lexer": "ipython3",
   "version": "3.7.3"
  },
  "varInspector": {
   "cols": {
    "lenName": 16,
    "lenType": 16,
    "lenVar": 40
   },
   "kernels_config": {
    "python": {
     "delete_cmd_postfix": "",
     "delete_cmd_prefix": "del ",
     "library": "var_list.py",
     "varRefreshCmd": "print(var_dic_list())"
    },
    "r": {
     "delete_cmd_postfix": ") ",
     "delete_cmd_prefix": "rm(",
     "library": "var_list.r",
     "varRefreshCmd": "cat(var_dic_list()) "
    }
   },
   "position": {
    "height": "543.85px",
    "left": "944.667px",
    "right": "20px",
    "top": "39px",
    "width": "550.767px"
   },
   "types_to_exclude": [
    "module",
    "function",
    "builtin_function_or_method",
    "instance",
    "_Feature"
   ],
   "window_display": false
  }
 },
 "nbformat": 4,
 "nbformat_minor": 2
}
